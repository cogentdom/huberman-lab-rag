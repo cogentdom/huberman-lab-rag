{
 "cells": [
  {
   "cell_type": "markdown",
   "metadata": {},
   "source": [
    "# Huberman Lab Podcast"
   ]
  },
  {
   "cell_type": "code",
   "execution_count": null,
   "metadata": {},
   "outputs": [],
   "source": [
    "import os\n",
    "import numpy as np\n",
    "import pandas as pd\n",
    "from collections import namedtuple\n",
    "from youtube_transcript_api import YouTubeTranscriptApi"
   ]
  },
  {
   "cell_type": "code",
   "execution_count": 12,
   "metadata": {},
   "outputs": [],
   "source": [
    "ytt_api = YouTubeTranscriptApi()"
   ]
  },
  {
   "cell_type": "code",
   "execution_count": 23,
   "metadata": {},
   "outputs": [
    {
     "data": {
      "text/html": [
       "<div>\n",
       "<style scoped>\n",
       "    .dataframe tbody tr th:only-of-type {\n",
       "        vertical-align: middle;\n",
       "    }\n",
       "\n",
       "    .dataframe tbody tr th {\n",
       "        vertical-align: top;\n",
       "    }\n",
       "\n",
       "    .dataframe thead th {\n",
       "        text-align: right;\n",
       "    }\n",
       "</style>\n",
       "<table border=\"1\" class=\"dataframe\">\n",
       "  <thead>\n",
       "    <tr style=\"text-align: right;\">\n",
       "      <th></th>\n",
       "      <th>Upload Date</th>\n",
       "      <th>title</th>\n",
       "      <th>webpage_url</th>\n",
       "      <th>Duration</th>\n",
       "      <th>Video ID</th>\n",
       "    </tr>\n",
       "  </thead>\n",
       "  <tbody>\n",
       "    <tr>\n",
       "      <th>0</th>\n",
       "      <td>23/12/20</td>\n",
       "      <td>Welcome to the Huberman Lab Podcast</td>\n",
       "      <td>https://www.youtube.com/watch?v=4b6bwcWK6GE</td>\n",
       "      <td>263</td>\n",
       "      <td>4b6bwcWK6GE</td>\n",
       "    </tr>\n",
       "    <tr>\n",
       "      <th>1</th>\n",
       "      <td>04/01/21</td>\n",
       "      <td>How Your Nervous System Works &amp; Changes -- Hub...</td>\n",
       "      <td>https://www.youtube.com/watch?v=H-XfCl-HpRM</td>\n",
       "      <td>3751</td>\n",
       "      <td>H-XfCl-HpRM</td>\n",
       "    </tr>\n",
       "    <tr>\n",
       "      <th>2</th>\n",
       "      <td>11/01/21</td>\n",
       "      <td>Master Your Sleep &amp; Be More Alert When Awake -...</td>\n",
       "      <td>https://www.youtube.com/watch?v=nm1TxQj9IsQ</td>\n",
       "      <td>4925</td>\n",
       "      <td>nm1TxQj9IsQ</td>\n",
       "    </tr>\n",
       "    <tr>\n",
       "      <th>3</th>\n",
       "      <td>18/01/21</td>\n",
       "      <td>Using Science to Optimize Sleep, Learning &amp; Me...</td>\n",
       "      <td>https://www.youtube.com/watch?v=nwSkFq4tyC0</td>\n",
       "      <td>6086</td>\n",
       "      <td>nwSkFq4tyC0</td>\n",
       "    </tr>\n",
       "    <tr>\n",
       "      <th>4</th>\n",
       "      <td>25/01/21</td>\n",
       "      <td>Find Your Temperature Minimum to Defeat Jetlag...</td>\n",
       "      <td>https://www.youtube.com/watch?v=NAATB55oxeQ</td>\n",
       "      <td>6655</td>\n",
       "      <td>NAATB55oxeQ</td>\n",
       "    </tr>\n",
       "  </tbody>\n",
       "</table>\n",
       "</div>"
      ],
      "text/plain": [
       "  Upload Date                                              title  \\\n",
       "0    23/12/20                Welcome to the Huberman Lab Podcast   \n",
       "1    04/01/21  How Your Nervous System Works & Changes -- Hub...   \n",
       "2    11/01/21  Master Your Sleep & Be More Alert When Awake -...   \n",
       "3    18/01/21  Using Science to Optimize Sleep, Learning & Me...   \n",
       "4    25/01/21  Find Your Temperature Minimum to Defeat Jetlag...   \n",
       "\n",
       "                                   webpage_url  Duration     Video ID  \n",
       "0  https://www.youtube.com/watch?v=4b6bwcWK6GE       263  4b6bwcWK6GE  \n",
       "1  https://www.youtube.com/watch?v=H-XfCl-HpRM      3751  H-XfCl-HpRM  \n",
       "2  https://www.youtube.com/watch?v=nm1TxQj9IsQ      4925  nm1TxQj9IsQ  \n",
       "3  https://www.youtube.com/watch?v=nwSkFq4tyC0      6086  nwSkFq4tyC0  \n",
       "4  https://www.youtube.com/watch?v=NAATB55oxeQ      6655  NAATB55oxeQ  "
      ]
     },
     "execution_count": 23,
     "metadata": {},
     "output_type": "execute_result"
    }
   ],
   "source": [
    "data = pd.read_csv('data/youtube-extract-huberman.csv', encoding='latin1', index_col=False)\n",
    "data.head()"
   ]
  },
  {
   "cell_type": "code",
   "execution_count": 49,
   "metadata": {},
   "outputs": [
    {
     "name": "stdout",
     "output_type": "stream",
     "text": [
      "Error processing video #NAME?: \n",
      "Could not retrieve a transcript for the video https://www.youtube.com/watch?v=#NAME?! This is most likely caused by:\n",
      "\n",
      "The data required to fetch the transcript is not parsable. This should not happen, please open an issue (make sure to include the video ID)!\n",
      "\n",
      "If you are sure that the described cause is not responsible for this error and that a transcript should be retrievable, please create an issue at https://github.com/jdepoix/youtube-transcript-api/issues. Please add which version of youtube_transcript_api you are using and provide the information needed to replicate the error. Also make sure that there are no open issues which already describe your problem!\n"
     ]
    }
   ],
   "source": [
    "os.makedirs('data/documents', exist_ok=True)\n",
    "\n",
    "for id, title in zip(data['Video ID'], data['title']):\n",
    "    video_id = id\n",
    "    filename = f'data/documents/{video_id}.txt'\n",
    "    video_title = title\n",
    "\n",
    "    try:\n",
    "        fetched_transcript = ytt_api.get_transcript(video_id, languages=['en', 'en-US'])\n",
    "        \n",
    "        with open(filename, 'w', encoding='utf-8') as file:\n",
    "            for snippet in fetched_transcript:\n",
    "                file.write(snippet['text'] + '\\n')  # Add newline after each snippet\n",
    "                \n",
    "    except Exception as e:\n",
    "        print(f\"Error processing video {video_id}: {str(e)}\")"
   ]
  },
  {
   "cell_type": "code",
   "execution_count": null,
   "metadata": {},
   "outputs": [],
   "source": []
  }
 ],
 "metadata": {
  "kernelspec": {
   "display_name": "venv",
   "language": "python",
   "name": "python3"
  },
  "language_info": {
   "codemirror_mode": {
    "name": "ipython",
    "version": 3
   },
   "file_extension": ".py",
   "mimetype": "text/x-python",
   "name": "python",
   "nbconvert_exporter": "python",
   "pygments_lexer": "ipython3",
   "version": "3.12.7"
  }
 },
 "nbformat": 4,
 "nbformat_minor": 2
}
